{
 "cells": [
  {
   "cell_type": "code",
   "execution_count": 1,
   "metadata": {
    "collapsed": true
   },
   "outputs": [],
   "source": [
    "import sklearn\n",
    "import sklearn.datasets\n",
    "import sklearn.tree\n",
    "import matplotlib.pyplot as plt\n",
    "import sklearn.linear_model\n",
    "import pandas as pd\n",
    "import numpy as np\n",
    "import sklearn.ensemble\n",
    "import pylab as pl\n",
    "import pickle \n",
    "import scipy.misc as smp\n",
    "import os"
   ]
  },
  {
   "cell_type": "code",
   "execution_count": 2,
   "metadata": {
    "collapsed": true
   },
   "outputs": [],
   "source": [
    "from PIL import Image\n",
    "img = Image.open('/Users/hardiktaneja/Downloads/DevanagariHandwrittenCharacterDataset/Train/character_1_ka/10962.png')"
   ]
  },
  {
   "cell_type": "code",
   "execution_count": 24,
   "metadata": {},
   "outputs": [
    {
     "name": "stdout",
     "output_type": "stream",
     "text": [
      "(32, 32)\n"
     ]
    }
   ],
   "source": [
    "img.show()\n",
    "img = np.array(img)\n",
    "print(img.shape)"
   ]
  },
  {
   "cell_type": "code",
   "execution_count": 25,
   "metadata": {
    "collapsed": true
   },
   "outputs": [],
   "source": [
    "root_dir = '/Users/hardiktaneja/Downloads/DevanagariHandwrittenCharacterDataset/Train'\n",
    "filepaths1 = [os.path.join(root_dir,f) for f in os.listdir(root_dir)]"
   ]
  },
  {
   "cell_type": "code",
   "execution_count": 26,
   "metadata": {},
   "outputs": [
    {
     "data": {
      "text/plain": [
       "['/Users/hardiktaneja/Downloads/DevanagariHandwrittenCharacterDataset/Train/.DS_Store',\n",
       " '/Users/hardiktaneja/Downloads/DevanagariHandwrittenCharacterDataset/Train/character_10_yna',\n",
       " '/Users/hardiktaneja/Downloads/DevanagariHandwrittenCharacterDataset/Train/character_11_taamatar',\n",
       " '/Users/hardiktaneja/Downloads/DevanagariHandwrittenCharacterDataset/Train/character_12_thaa',\n",
       " '/Users/hardiktaneja/Downloads/DevanagariHandwrittenCharacterDataset/Train/character_13_daa',\n",
       " '/Users/hardiktaneja/Downloads/DevanagariHandwrittenCharacterDataset/Train/character_14_dhaa',\n",
       " '/Users/hardiktaneja/Downloads/DevanagariHandwrittenCharacterDataset/Train/character_15_adna',\n",
       " '/Users/hardiktaneja/Downloads/DevanagariHandwrittenCharacterDataset/Train/character_16_tabala',\n",
       " '/Users/hardiktaneja/Downloads/DevanagariHandwrittenCharacterDataset/Train/character_17_tha',\n",
       " '/Users/hardiktaneja/Downloads/DevanagariHandwrittenCharacterDataset/Train/character_18_da',\n",
       " '/Users/hardiktaneja/Downloads/DevanagariHandwrittenCharacterDataset/Train/character_19_dha',\n",
       " '/Users/hardiktaneja/Downloads/DevanagariHandwrittenCharacterDataset/Train/character_1_ka',\n",
       " '/Users/hardiktaneja/Downloads/DevanagariHandwrittenCharacterDataset/Train/character_20_na',\n",
       " '/Users/hardiktaneja/Downloads/DevanagariHandwrittenCharacterDataset/Train/character_21_pa',\n",
       " '/Users/hardiktaneja/Downloads/DevanagariHandwrittenCharacterDataset/Train/character_22_pha',\n",
       " '/Users/hardiktaneja/Downloads/DevanagariHandwrittenCharacterDataset/Train/character_23_ba',\n",
       " '/Users/hardiktaneja/Downloads/DevanagariHandwrittenCharacterDataset/Train/character_24_bha',\n",
       " '/Users/hardiktaneja/Downloads/DevanagariHandwrittenCharacterDataset/Train/character_25_ma',\n",
       " '/Users/hardiktaneja/Downloads/DevanagariHandwrittenCharacterDataset/Train/character_26_yaw',\n",
       " '/Users/hardiktaneja/Downloads/DevanagariHandwrittenCharacterDataset/Train/character_27_ra',\n",
       " '/Users/hardiktaneja/Downloads/DevanagariHandwrittenCharacterDataset/Train/character_28_la',\n",
       " '/Users/hardiktaneja/Downloads/DevanagariHandwrittenCharacterDataset/Train/character_29_waw',\n",
       " '/Users/hardiktaneja/Downloads/DevanagariHandwrittenCharacterDataset/Train/character_2_kha',\n",
       " '/Users/hardiktaneja/Downloads/DevanagariHandwrittenCharacterDataset/Train/character_30_motosaw',\n",
       " '/Users/hardiktaneja/Downloads/DevanagariHandwrittenCharacterDataset/Train/character_31_petchiryakha',\n",
       " '/Users/hardiktaneja/Downloads/DevanagariHandwrittenCharacterDataset/Train/character_32_patalosaw',\n",
       " '/Users/hardiktaneja/Downloads/DevanagariHandwrittenCharacterDataset/Train/character_33_ha',\n",
       " '/Users/hardiktaneja/Downloads/DevanagariHandwrittenCharacterDataset/Train/character_34_chhya',\n",
       " '/Users/hardiktaneja/Downloads/DevanagariHandwrittenCharacterDataset/Train/character_35_tra',\n",
       " '/Users/hardiktaneja/Downloads/DevanagariHandwrittenCharacterDataset/Train/character_36_gya',\n",
       " '/Users/hardiktaneja/Downloads/DevanagariHandwrittenCharacterDataset/Train/character_3_ga',\n",
       " '/Users/hardiktaneja/Downloads/DevanagariHandwrittenCharacterDataset/Train/character_4_gha',\n",
       " '/Users/hardiktaneja/Downloads/DevanagariHandwrittenCharacterDataset/Train/character_5_kna',\n",
       " '/Users/hardiktaneja/Downloads/DevanagariHandwrittenCharacterDataset/Train/character_6_cha',\n",
       " '/Users/hardiktaneja/Downloads/DevanagariHandwrittenCharacterDataset/Train/character_7_chha',\n",
       " '/Users/hardiktaneja/Downloads/DevanagariHandwrittenCharacterDataset/Train/character_8_ja',\n",
       " '/Users/hardiktaneja/Downloads/DevanagariHandwrittenCharacterDataset/Train/character_9_jha']"
      ]
     },
     "execution_count": 26,
     "metadata": {},
     "output_type": "execute_result"
    }
   ],
   "source": [
    "filepaths1"
   ]
  },
  {
   "cell_type": "code",
   "execution_count": 5,
   "metadata": {
    "collapsed": true
   },
   "outputs": [],
   "source": [
    "imgarr=[]\n",
    "targetarr=[]\n",
    "for j in filepaths1:\n",
    "    root_dir = j\n",
    "    if(j == '/Users/hardiktaneja/Downloads/DevanagariHandwrittenCharacterDataset/Train/.DS_Store'):\n",
    "        continue\n",
    "    filepaths = [os.path.join(root_dir,f) for f in os.listdir(root_dir)]\n",
    "    for i in filepaths:\n",
    "        img = Image.open(i)\n",
    "        h = np.array(img)\n",
    "        imgarr.append(h)\n",
    "        m =int(j.split('/')[len(j.split('/'))-1].split('_')[1])\n",
    "        targetarr.append(m)"
   ]
  },
  {
   "cell_type": "code",
   "execution_count": 16,
   "metadata": {},
   "outputs": [
    {
     "data": {
      "text/plain": [
       "['/Users/hardiktaneja/Downloads/DevanagariHandwrittenCharacterDataset/Test/.DS_Store',\n",
       " '/Users/hardiktaneja/Downloads/DevanagariHandwrittenCharacterDataset/Test/character_10_yna',\n",
       " '/Users/hardiktaneja/Downloads/DevanagariHandwrittenCharacterDataset/Test/character_11_taamatar',\n",
       " '/Users/hardiktaneja/Downloads/DevanagariHandwrittenCharacterDataset/Test/character_12_thaa',\n",
       " '/Users/hardiktaneja/Downloads/DevanagariHandwrittenCharacterDataset/Test/character_13_daa',\n",
       " '/Users/hardiktaneja/Downloads/DevanagariHandwrittenCharacterDataset/Test/character_14_dhaa',\n",
       " '/Users/hardiktaneja/Downloads/DevanagariHandwrittenCharacterDataset/Test/character_15_adna',\n",
       " '/Users/hardiktaneja/Downloads/DevanagariHandwrittenCharacterDataset/Test/character_16_tabala',\n",
       " '/Users/hardiktaneja/Downloads/DevanagariHandwrittenCharacterDataset/Test/character_17_tha',\n",
       " '/Users/hardiktaneja/Downloads/DevanagariHandwrittenCharacterDataset/Test/character_18_da',\n",
       " '/Users/hardiktaneja/Downloads/DevanagariHandwrittenCharacterDataset/Test/character_19_dha',\n",
       " '/Users/hardiktaneja/Downloads/DevanagariHandwrittenCharacterDataset/Test/character_1_ka',\n",
       " '/Users/hardiktaneja/Downloads/DevanagariHandwrittenCharacterDataset/Test/character_20_na',\n",
       " '/Users/hardiktaneja/Downloads/DevanagariHandwrittenCharacterDataset/Test/character_21_pa',\n",
       " '/Users/hardiktaneja/Downloads/DevanagariHandwrittenCharacterDataset/Test/character_22_pha',\n",
       " '/Users/hardiktaneja/Downloads/DevanagariHandwrittenCharacterDataset/Test/character_23_ba',\n",
       " '/Users/hardiktaneja/Downloads/DevanagariHandwrittenCharacterDataset/Test/character_24_bha',\n",
       " '/Users/hardiktaneja/Downloads/DevanagariHandwrittenCharacterDataset/Test/character_25_ma',\n",
       " '/Users/hardiktaneja/Downloads/DevanagariHandwrittenCharacterDataset/Test/character_26_yaw',\n",
       " '/Users/hardiktaneja/Downloads/DevanagariHandwrittenCharacterDataset/Test/character_27_ra',\n",
       " '/Users/hardiktaneja/Downloads/DevanagariHandwrittenCharacterDataset/Test/character_28_la',\n",
       " '/Users/hardiktaneja/Downloads/DevanagariHandwrittenCharacterDataset/Test/character_29_waw',\n",
       " '/Users/hardiktaneja/Downloads/DevanagariHandwrittenCharacterDataset/Test/character_2_kha',\n",
       " '/Users/hardiktaneja/Downloads/DevanagariHandwrittenCharacterDataset/Test/character_30_motosaw',\n",
       " '/Users/hardiktaneja/Downloads/DevanagariHandwrittenCharacterDataset/Test/character_31_petchiryakha',\n",
       " '/Users/hardiktaneja/Downloads/DevanagariHandwrittenCharacterDataset/Test/character_32_patalosaw',\n",
       " '/Users/hardiktaneja/Downloads/DevanagariHandwrittenCharacterDataset/Test/character_33_ha',\n",
       " '/Users/hardiktaneja/Downloads/DevanagariHandwrittenCharacterDataset/Test/character_34_chhya',\n",
       " '/Users/hardiktaneja/Downloads/DevanagariHandwrittenCharacterDataset/Test/character_35_tra',\n",
       " '/Users/hardiktaneja/Downloads/DevanagariHandwrittenCharacterDataset/Test/character_36_gya',\n",
       " '/Users/hardiktaneja/Downloads/DevanagariHandwrittenCharacterDataset/Test/character_3_ga',\n",
       " '/Users/hardiktaneja/Downloads/DevanagariHandwrittenCharacterDataset/Test/character_4_gha',\n",
       " '/Users/hardiktaneja/Downloads/DevanagariHandwrittenCharacterDataset/Test/character_5_kna',\n",
       " '/Users/hardiktaneja/Downloads/DevanagariHandwrittenCharacterDataset/Test/character_6_cha',\n",
       " '/Users/hardiktaneja/Downloads/DevanagariHandwrittenCharacterDataset/Test/character_7_chha',\n",
       " '/Users/hardiktaneja/Downloads/DevanagariHandwrittenCharacterDataset/Test/character_8_ja',\n",
       " '/Users/hardiktaneja/Downloads/DevanagariHandwrittenCharacterDataset/Test/character_9_jha']"
      ]
     },
     "execution_count": 16,
     "metadata": {},
     "output_type": "execute_result"
    }
   ],
   "source": [
    "root_dir = '/Users/hardiktaneja/Downloads/DevanagariHandwrittenCharacterDataset/Test'\n",
    "filepaths1 = [os.path.join(root_dir,f) for f in os.listdir(root_dir)]\n",
    "filepaths1"
   ]
  },
  {
   "cell_type": "code",
   "execution_count": null,
   "metadata": {
    "collapsed": true
   },
   "outputs": [],
   "source": []
  },
  {
   "cell_type": "code",
   "execution_count": 17,
   "metadata": {
    "collapsed": true
   },
   "outputs": [],
   "source": [
    "\n",
    "imgarr=[]\n",
    "targetarr=[]\n",
    "for j in filepaths1:\n",
    "    root_dir = j\n",
    "    if(j == '/Users/hardiktaneja/Downloads/DevanagariHandwrittenCharacterDataset/Test/.DS_Store'):\n",
    "        continue\n",
    "    filepaths = [os.path.join(root_dir,f) for f in os.listdir(root_dir)]\n",
    "    for i in filepaths:\n",
    "        img = Image.open(i)\n",
    "        h = np.array(img)\n",
    "        imgarr.append(h)\n",
    "        m =int(j.split('/')[len(j.split('/'))-1].split('_')[1])\n",
    "        targetarr.append(m)"
   ]
  },
  {
   "cell_type": "code",
   "execution_count": 19,
   "metadata": {},
   "outputs": [
    {
     "data": {
      "text/plain": [
       "10800"
      ]
     },
     "execution_count": 19,
     "metadata": {},
     "output_type": "execute_result"
    }
   ],
   "source": [
    "len(targetarr)"
   ]
  },
  {
   "cell_type": "code",
   "execution_count": 20,
   "metadata": {
    "collapsed": true
   },
   "outputs": [],
   "source": [
    "x_test = np.array(imgarr).reshape(10800,1024)\n",
    "y_test = np.array(targetarr)"
   ]
  },
  {
   "cell_type": "code",
   "execution_count": 6,
   "metadata": {
    "collapsed": true
   },
   "outputs": [],
   "source": [
    "x = np.array(imgarr,float).reshape(61200,1024)\n",
    "y = np.array(targetarr)"
   ]
  },
  {
   "cell_type": "code",
   "execution_count": 9,
   "metadata": {
    "collapsed": true
   },
   "outputs": [],
   "source": [
    "x_train,x_test,y_train,y_test = sklearn.model_selection.train_test_split(x,y,test_size=.2)"
   ]
  },
  {
   "cell_type": "code",
   "execution_count": 21,
   "metadata": {
    "scrolled": true
   },
   "outputs": [
    {
     "data": {
      "text/plain": [
       "RandomForestClassifier(bootstrap=True, class_weight=None, criterion='gini',\n",
       "            max_depth=None, max_features='auto', max_leaf_nodes=None,\n",
       "            min_impurity_decrease=0.0, min_impurity_split=None,\n",
       "            min_samples_leaf=1, min_samples_split=2,\n",
       "            min_weight_fraction_leaf=0.0, n_estimators=10, n_jobs=1,\n",
       "            oob_score=False, random_state=0, verbose=0, warm_start=False)"
      ]
     },
     "execution_count": 21,
     "metadata": {},
     "output_type": "execute_result"
    }
   ],
   "source": [
    "clf = sklearn.ensemble.RandomForestClassifier(random_state=0)\n",
    "clf.fit(x,y)"
   ]
  },
  {
   "cell_type": "code",
   "execution_count": 22,
   "metadata": {
    "scrolled": true
   },
   "outputs": [
    {
     "data": {
      "text/plain": [
       "0.77398148148148149"
      ]
     },
     "execution_count": 22,
     "metadata": {},
     "output_type": "execute_result"
    }
   ],
   "source": [
    "clf.score(x_test,y_test)"
   ]
  }
 ],
 "metadata": {
  "kernelspec": {
   "display_name": "Python 3",
   "language": "python",
   "name": "python3"
  },
  "language_info": {
   "codemirror_mode": {
    "name": "ipython",
    "version": 3
   },
   "file_extension": ".py",
   "mimetype": "text/x-python",
   "name": "python",
   "nbconvert_exporter": "python",
   "pygments_lexer": "ipython3",
   "version": "3.6.3"
  }
 },
 "nbformat": 4,
 "nbformat_minor": 2
}
