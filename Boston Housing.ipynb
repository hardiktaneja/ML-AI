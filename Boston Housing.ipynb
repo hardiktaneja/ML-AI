{
 "cells": [
  {
   "cell_type": "code",
   "execution_count": 1,
   "metadata": {
    "collapsed": true
   },
   "outputs": [],
   "source": [
    "import sklearn\n",
    "import sklearn.datasets\n",
    "import matplotlib.pyplot as plt\n",
    "import sklearn.linear_model\n",
    "import pandas as pd\n",
    "import numpy as np"
   ]
  },
  {
   "cell_type": "code",
   "execution_count": 2,
   "metadata": {
    "collapsed": true
   },
   "outputs": [],
   "source": [
    "boston =  sklearn.datasets.load_boston()"
   ]
  },
  {
   "cell_type": "code",
   "execution_count": 53,
   "metadata": {},
   "outputs": [
    {
     "data": {
      "text/plain": [
       "{'DESCR': \"Boston House Prices dataset\\n===========================\\n\\nNotes\\n------\\nData Set Characteristics:  \\n\\n    :Number of Instances: 506 \\n\\n    :Number of Attributes: 13 numeric/categorical predictive\\n    \\n    :Median Value (attribute 14) is usually the target\\n\\n    :Attribute Information (in order):\\n        - CRIM     per capita crime rate by town\\n        - ZN       proportion of residential land zoned for lots over 25,000 sq.ft.\\n        - INDUS    proportion of non-retail business acres per town\\n        - CHAS     Charles River dummy variable (= 1 if tract bounds river; 0 otherwise)\\n        - NOX      nitric oxides concentration (parts per 10 million)\\n        - RM       average number of rooms per dwelling\\n        - AGE      proportion of owner-occupied units built prior to 1940\\n        - DIS      weighted distances to five Boston employment centres\\n        - RAD      index of accessibility to radial highways\\n        - TAX      full-value property-tax rate per $10,000\\n        - PTRATIO  pupil-teacher ratio by town\\n        - B        1000(Bk - 0.63)^2 where Bk is the proportion of blacks by town\\n        - LSTAT    % lower status of the population\\n        - MEDV     Median value of owner-occupied homes in $1000's\\n\\n    :Missing Attribute Values: None\\n\\n    :Creator: Harrison, D. and Rubinfeld, D.L.\\n\\nThis is a copy of UCI ML housing dataset.\\nhttp://archive.ics.uci.edu/ml/datasets/Housing\\n\\n\\nThis dataset was taken from the StatLib library which is maintained at Carnegie Mellon University.\\n\\nThe Boston house-price data of Harrison, D. and Rubinfeld, D.L. 'Hedonic\\nprices and the demand for clean air', J. Environ. Economics & Management,\\nvol.5, 81-102, 1978.   Used in Belsley, Kuh & Welsch, 'Regression diagnostics\\n...', Wiley, 1980.   N.B. Various transformations are used in the table on\\npages 244-261 of the latter.\\n\\nThe Boston house-price data has been used in many machine learning papers that address regression\\nproblems.   \\n     \\n**References**\\n\\n   - Belsley, Kuh & Welsch, 'Regression diagnostics: Identifying Influential Data and Sources of Collinearity', Wiley, 1980. 244-261.\\n   - Quinlan,R. (1993). Combining Instance-Based and Model-Based Learning. In Proceedings on the Tenth International Conference of Machine Learning, 236-243, University of Massachusetts, Amherst. Morgan Kaufmann.\\n   - many more! (see http://archive.ics.uci.edu/ml/datasets/Housing)\\n\",\n",
       " 'data': array([[  6.32000000e-03,   1.80000000e+01,   2.31000000e+00, ...,\n",
       "           1.53000000e+01,   3.96900000e+02,   4.98000000e+00],\n",
       "        [  2.73100000e-02,   0.00000000e+00,   7.07000000e+00, ...,\n",
       "           1.78000000e+01,   3.96900000e+02,   9.14000000e+00],\n",
       "        [  2.72900000e-02,   0.00000000e+00,   7.07000000e+00, ...,\n",
       "           1.78000000e+01,   3.92830000e+02,   4.03000000e+00],\n",
       "        ..., \n",
       "        [  6.07600000e-02,   0.00000000e+00,   1.19300000e+01, ...,\n",
       "           2.10000000e+01,   3.96900000e+02,   5.64000000e+00],\n",
       "        [  1.09590000e-01,   0.00000000e+00,   1.19300000e+01, ...,\n",
       "           2.10000000e+01,   3.93450000e+02,   6.48000000e+00],\n",
       "        [  4.74100000e-02,   0.00000000e+00,   1.19300000e+01, ...,\n",
       "           2.10000000e+01,   3.96900000e+02,   7.88000000e+00]]),\n",
       " 'feature_names': array(['CRIM', 'ZN', 'INDUS', 'CHAS', 'NOX', 'RM', 'AGE', 'DIS', 'RAD',\n",
       "        'TAX', 'PTRATIO', 'B', 'LSTAT'],\n",
       "       dtype='<U7'),\n",
       " 'target': array([ 24. ,  21.6,  34.7,  33.4,  36.2,  28.7,  22.9,  27.1,  16.5,\n",
       "         18.9,  15. ,  18.9,  21.7,  20.4,  18.2,  19.9,  23.1,  17.5,\n",
       "         20.2,  18.2,  13.6,  19.6,  15.2,  14.5,  15.6,  13.9,  16.6,\n",
       "         14.8,  18.4,  21. ,  12.7,  14.5,  13.2,  13.1,  13.5,  18.9,\n",
       "         20. ,  21. ,  24.7,  30.8,  34.9,  26.6,  25.3,  24.7,  21.2,\n",
       "         19.3,  20. ,  16.6,  14.4,  19.4,  19.7,  20.5,  25. ,  23.4,\n",
       "         18.9,  35.4,  24.7,  31.6,  23.3,  19.6,  18.7,  16. ,  22.2,\n",
       "         25. ,  33. ,  23.5,  19.4,  22. ,  17.4,  20.9,  24.2,  21.7,\n",
       "         22.8,  23.4,  24.1,  21.4,  20. ,  20.8,  21.2,  20.3,  28. ,\n",
       "         23.9,  24.8,  22.9,  23.9,  26.6,  22.5,  22.2,  23.6,  28.7,\n",
       "         22.6,  22. ,  22.9,  25. ,  20.6,  28.4,  21.4,  38.7,  43.8,\n",
       "         33.2,  27.5,  26.5,  18.6,  19.3,  20.1,  19.5,  19.5,  20.4,\n",
       "         19.8,  19.4,  21.7,  22.8,  18.8,  18.7,  18.5,  18.3,  21.2,\n",
       "         19.2,  20.4,  19.3,  22. ,  20.3,  20.5,  17.3,  18.8,  21.4,\n",
       "         15.7,  16.2,  18. ,  14.3,  19.2,  19.6,  23. ,  18.4,  15.6,\n",
       "         18.1,  17.4,  17.1,  13.3,  17.8,  14. ,  14.4,  13.4,  15.6,\n",
       "         11.8,  13.8,  15.6,  14.6,  17.8,  15.4,  21.5,  19.6,  15.3,\n",
       "         19.4,  17. ,  15.6,  13.1,  41.3,  24.3,  23.3,  27. ,  50. ,\n",
       "         50. ,  50. ,  22.7,  25. ,  50. ,  23.8,  23.8,  22.3,  17.4,\n",
       "         19.1,  23.1,  23.6,  22.6,  29.4,  23.2,  24.6,  29.9,  37.2,\n",
       "         39.8,  36.2,  37.9,  32.5,  26.4,  29.6,  50. ,  32. ,  29.8,\n",
       "         34.9,  37. ,  30.5,  36.4,  31.1,  29.1,  50. ,  33.3,  30.3,\n",
       "         34.6,  34.9,  32.9,  24.1,  42.3,  48.5,  50. ,  22.6,  24.4,\n",
       "         22.5,  24.4,  20. ,  21.7,  19.3,  22.4,  28.1,  23.7,  25. ,\n",
       "         23.3,  28.7,  21.5,  23. ,  26.7,  21.7,  27.5,  30.1,  44.8,\n",
       "         50. ,  37.6,  31.6,  46.7,  31.5,  24.3,  31.7,  41.7,  48.3,\n",
       "         29. ,  24. ,  25.1,  31.5,  23.7,  23.3,  22. ,  20.1,  22.2,\n",
       "         23.7,  17.6,  18.5,  24.3,  20.5,  24.5,  26.2,  24.4,  24.8,\n",
       "         29.6,  42.8,  21.9,  20.9,  44. ,  50. ,  36. ,  30.1,  33.8,\n",
       "         43.1,  48.8,  31. ,  36.5,  22.8,  30.7,  50. ,  43.5,  20.7,\n",
       "         21.1,  25.2,  24.4,  35.2,  32.4,  32. ,  33.2,  33.1,  29.1,\n",
       "         35.1,  45.4,  35.4,  46. ,  50. ,  32.2,  22. ,  20.1,  23.2,\n",
       "         22.3,  24.8,  28.5,  37.3,  27.9,  23.9,  21.7,  28.6,  27.1,\n",
       "         20.3,  22.5,  29. ,  24.8,  22. ,  26.4,  33.1,  36.1,  28.4,\n",
       "         33.4,  28.2,  22.8,  20.3,  16.1,  22.1,  19.4,  21.6,  23.8,\n",
       "         16.2,  17.8,  19.8,  23.1,  21. ,  23.8,  23.1,  20.4,  18.5,\n",
       "         25. ,  24.6,  23. ,  22.2,  19.3,  22.6,  19.8,  17.1,  19.4,\n",
       "         22.2,  20.7,  21.1,  19.5,  18.5,  20.6,  19. ,  18.7,  32.7,\n",
       "         16.5,  23.9,  31.2,  17.5,  17.2,  23.1,  24.5,  26.6,  22.9,\n",
       "         24.1,  18.6,  30.1,  18.2,  20.6,  17.8,  21.7,  22.7,  22.6,\n",
       "         25. ,  19.9,  20.8,  16.8,  21.9,  27.5,  21.9,  23.1,  50. ,\n",
       "         50. ,  50. ,  50. ,  50. ,  13.8,  13.8,  15. ,  13.9,  13.3,\n",
       "         13.1,  10.2,  10.4,  10.9,  11.3,  12.3,   8.8,   7.2,  10.5,\n",
       "          7.4,  10.2,  11.5,  15.1,  23.2,   9.7,  13.8,  12.7,  13.1,\n",
       "         12.5,   8.5,   5. ,   6.3,   5.6,   7.2,  12.1,   8.3,   8.5,\n",
       "          5. ,  11.9,  27.9,  17.2,  27.5,  15. ,  17.2,  17.9,  16.3,\n",
       "          7. ,   7.2,   7.5,  10.4,   8.8,   8.4,  16.7,  14.2,  20.8,\n",
       "         13.4,  11.7,   8.3,  10.2,  10.9,  11. ,   9.5,  14.5,  14.1,\n",
       "         16.1,  14.3,  11.7,  13.4,   9.6,   8.7,   8.4,  12.8,  10.5,\n",
       "         17.1,  18.4,  15.4,  10.8,  11.8,  14.9,  12.6,  14.1,  13. ,\n",
       "         13.4,  15.2,  16.1,  17.8,  14.9,  14.1,  12.7,  13.5,  14.9,\n",
       "         20. ,  16.4,  17.7,  19.5,  20.2,  21.4,  19.9,  19. ,  19.1,\n",
       "         19.1,  20.1,  19.9,  19.6,  23.2,  29.8,  13.8,  13.3,  16.7,\n",
       "         12. ,  14.6,  21.4,  23. ,  23.7,  25. ,  21.8,  20.6,  21.2,\n",
       "         19.1,  20.6,  15.2,   7. ,   8.1,  13.6,  20.1,  21.8,  24.5,\n",
       "         23.1,  19.7,  18.3,  21.2,  17.5,  16.8,  22.4,  20.6,  23.9,\n",
       "         22. ,  11.9])}"
      ]
     },
     "execution_count": 53,
     "metadata": {},
     "output_type": "execute_result"
    }
   ],
   "source": [
    "(boston)"
   ]
  },
  {
   "cell_type": "code",
   "execution_count": 3,
   "metadata": {
    "collapsed": true
   },
   "outputs": [],
   "source": [
    "x = boston.data\n",
    "y=boston.target"
   ]
  },
  {
   "cell_type": "code",
   "execution_count": 86,
   "metadata": {},
   "outputs": [
    {
     "data": {
      "text/plain": [
       "(506, 13)"
      ]
     },
     "execution_count": 86,
     "metadata": {},
     "output_type": "execute_result"
    }
   ],
   "source": [
    "x.shape"
   ]
  },
  {
   "cell_type": "code",
   "execution_count": 50,
   "metadata": {},
   "outputs": [
    {
     "data": {
      "text/plain": [
       "0.027289999999999998"
      ]
     },
     "execution_count": 50,
     "metadata": {},
     "output_type": "execute_result"
    }
   ],
   "source": [
    "x[2][0]"
   ]
  },
  {
   "cell_type": "code",
   "execution_count": 22,
   "metadata": {},
   "outputs": [
    {
     "data": {
      "text/plain": [
       "(506,)"
      ]
     },
     "execution_count": 22,
     "metadata": {},
     "output_type": "execute_result"
    }
   ],
   "source": [
    "y.shape"
   ]
  },
  {
   "cell_type": "code",
   "execution_count": null,
   "metadata": {
    "collapsed": true
   },
   "outputs": [],
   "source": []
  },
  {
   "cell_type": "code",
   "execution_count": 33,
   "metadata": {},
   "outputs": [],
   "source": [
    "x_train,x_test,y_train,y_test = sklearn.model_selection.train_test_split(x,y,test_size=.4)"
   ]
  },
  {
   "cell_type": "code",
   "execution_count": 17,
   "metadata": {},
   "outputs": [
    {
     "data": {
      "text/plain": [
       "(303, 13)"
      ]
     },
     "execution_count": 17,
     "metadata": {},
     "output_type": "execute_result"
    }
   ],
   "source": [
    "x_train.shape\n",
    "# x_test.shape\n",
    "# y_train.shape\n",
    "# y_test.shape"
   ]
  },
  {
   "cell_type": "code",
   "execution_count": 18,
   "metadata": {},
   "outputs": [
    {
     "data": {
      "text/plain": [
       "(203, 13)"
      ]
     },
     "execution_count": 18,
     "metadata": {},
     "output_type": "execute_result"
    }
   ],
   "source": [
    "x_test.shape\n"
   ]
  },
  {
   "cell_type": "code",
   "execution_count": 19,
   "metadata": {},
   "outputs": [
    {
     "data": {
      "text/plain": [
       "(303,)"
      ]
     },
     "execution_count": 19,
     "metadata": {},
     "output_type": "execute_result"
    }
   ],
   "source": [
    "y_train.shape\n"
   ]
  },
  {
   "cell_type": "code",
   "execution_count": 20,
   "metadata": {},
   "outputs": [
    {
     "data": {
      "text/plain": [
       "(203,)"
      ]
     },
     "execution_count": 20,
     "metadata": {},
     "output_type": "execute_result"
    }
   ],
   "source": [
    "y_test.shape"
   ]
  },
  {
   "cell_type": "code",
   "execution_count": 4,
   "metadata": {
    "collapsed": true
   },
   "outputs": [],
   "source": [
    "reg = sklearn.linear_model.LinearRegression()"
   ]
  },
  {
   "cell_type": "code",
   "execution_count": 34,
   "metadata": {
    "scrolled": true
   },
   "outputs": [
    {
     "data": {
      "text/plain": [
       "LinearRegression(copy_X=True, fit_intercept=True, n_jobs=1, normalize=False)"
      ]
     },
     "execution_count": 34,
     "metadata": {},
     "output_type": "execute_result"
    }
   ],
   "source": [
    "reg.fit(x_train,y_train)"
   ]
  },
  {
   "cell_type": "code",
   "execution_count": 87,
   "metadata": {},
   "outputs": [
    {
     "data": {
      "text/plain": [
       "array([ -1.44295591e-01,   5.19558004e-02,   9.17816227e-02,\n",
       "         2.21464121e+00,  -1.90827637e+01,   3.76150364e+00,\n",
       "         1.21772845e-02,  -1.53622455e+00,   3.49266148e-01,\n",
       "        -1.44961404e-02,  -9.83202303e-01,   1.12833623e-02,\n",
       "        -6.00465016e-01])"
      ]
     },
     "execution_count": 87,
     "metadata": {},
     "output_type": "execute_result"
    }
   ],
   "source": [
    "reg.coef_"
   ]
  },
  {
   "cell_type": "code",
   "execution_count": null,
   "metadata": {
    "collapsed": true
   },
   "outputs": [],
   "source": []
  },
  {
   "cell_type": "code",
   "execution_count": 35,
   "metadata": {},
   "outputs": [
    {
     "data": {
      "text/plain": [
       "0.73728240946341861"
      ]
     },
     "execution_count": 35,
     "metadata": {},
     "output_type": "execute_result"
    }
   ],
   "source": [
    "reg.score(x_test,y_test)"
   ]
  },
  {
   "cell_type": "code",
   "execution_count": 36,
   "metadata": {
    "scrolled": true
   },
   "outputs": [
    {
     "data": {
      "text/plain": [
       "0.73475961032014792"
      ]
     },
     "execution_count": 36,
     "metadata": {},
     "output_type": "execute_result"
    }
   ],
   "source": [
    "reg.score(x_train,y_train)"
   ]
  },
  {
   "cell_type": "code",
   "execution_count": 57,
   "metadata": {
    "collapsed": true
   },
   "outputs": [],
   "source": [
    "f1=[]\n",
    "f2=[]\n",
    "f3=[]\n",
    "f4=[]\n",
    "f5=[]\n",
    "price=[]\n",
    "for i in range(len(x)):\n",
    "    f1.append(x[i][0])\n",
    "    f2.append(x[i][1])\n",
    "    f3.append(x[i][2])\n",
    "    f4.append(x[i][3])\n",
    "    f5.append(x[i][4])\n",
    "    price.append(y[i])\n"
   ]
  },
  {
   "cell_type": "code",
   "execution_count": 59,
   "metadata": {},
   "outputs": [
    {
     "data": {
      "text/plain": [
       "[24.0,\n",
       " 21.600000000000001,\n",
       " 34.700000000000003,\n",
       " 33.399999999999999,\n",
       " 36.200000000000003,\n",
       " 28.699999999999999,\n",
       " 22.899999999999999,\n",
       " 27.100000000000001,\n",
       " 16.5,\n",
       " 18.899999999999999,\n",
       " 15.0,\n",
       " 18.899999999999999,\n",
       " 21.699999999999999,\n",
       " 20.399999999999999,\n",
       " 18.199999999999999,\n",
       " 19.899999999999999,\n",
       " 23.100000000000001,\n",
       " 17.5,\n",
       " 20.199999999999999,\n",
       " 18.199999999999999,\n",
       " 13.6,\n",
       " 19.600000000000001,\n",
       " 15.199999999999999,\n",
       " 14.5,\n",
       " 15.6,\n",
       " 13.9,\n",
       " 16.600000000000001,\n",
       " 14.800000000000001,\n",
       " 18.399999999999999,\n",
       " 21.0,\n",
       " 12.699999999999999,\n",
       " 14.5,\n",
       " 13.199999999999999,\n",
       " 13.1,\n",
       " 13.5,\n",
       " 18.899999999999999,\n",
       " 20.0,\n",
       " 21.0,\n",
       " 24.699999999999999,\n",
       " 30.800000000000001,\n",
       " 34.899999999999999,\n",
       " 26.600000000000001,\n",
       " 25.300000000000001,\n",
       " 24.699999999999999,\n",
       " 21.199999999999999,\n",
       " 19.300000000000001,\n",
       " 20.0,\n",
       " 16.600000000000001,\n",
       " 14.4,\n",
       " 19.399999999999999,\n",
       " 19.699999999999999,\n",
       " 20.5,\n",
       " 25.0,\n",
       " 23.399999999999999,\n",
       " 18.899999999999999,\n",
       " 35.399999999999999,\n",
       " 24.699999999999999,\n",
       " 31.600000000000001,\n",
       " 23.300000000000001,\n",
       " 19.600000000000001,\n",
       " 18.699999999999999,\n",
       " 16.0,\n",
       " 22.199999999999999,\n",
       " 25.0,\n",
       " 33.0,\n",
       " 23.5,\n",
       " 19.399999999999999,\n",
       " 22.0,\n",
       " 17.399999999999999,\n",
       " 20.899999999999999,\n",
       " 24.199999999999999,\n",
       " 21.699999999999999,\n",
       " 22.800000000000001,\n",
       " 23.399999999999999,\n",
       " 24.100000000000001,\n",
       " 21.399999999999999,\n",
       " 20.0,\n",
       " 20.800000000000001,\n",
       " 21.199999999999999,\n",
       " 20.300000000000001,\n",
       " 28.0,\n",
       " 23.899999999999999,\n",
       " 24.800000000000001,\n",
       " 22.899999999999999,\n",
       " 23.899999999999999,\n",
       " 26.600000000000001,\n",
       " 22.5,\n",
       " 22.199999999999999,\n",
       " 23.600000000000001,\n",
       " 28.699999999999999,\n",
       " 22.600000000000001,\n",
       " 22.0,\n",
       " 22.899999999999999,\n",
       " 25.0,\n",
       " 20.600000000000001,\n",
       " 28.399999999999999,\n",
       " 21.399999999999999,\n",
       " 38.700000000000003,\n",
       " 43.799999999999997,\n",
       " 33.200000000000003,\n",
       " 27.5,\n",
       " 26.5,\n",
       " 18.600000000000001,\n",
       " 19.300000000000001,\n",
       " 20.100000000000001,\n",
       " 19.5,\n",
       " 19.5,\n",
       " 20.399999999999999,\n",
       " 19.800000000000001,\n",
       " 19.399999999999999,\n",
       " 21.699999999999999,\n",
       " 22.800000000000001,\n",
       " 18.800000000000001,\n",
       " 18.699999999999999,\n",
       " 18.5,\n",
       " 18.300000000000001,\n",
       " 21.199999999999999,\n",
       " 19.199999999999999,\n",
       " 20.399999999999999,\n",
       " 19.300000000000001,\n",
       " 22.0,\n",
       " 20.300000000000001,\n",
       " 20.5,\n",
       " 17.300000000000001,\n",
       " 18.800000000000001,\n",
       " 21.399999999999999,\n",
       " 15.699999999999999,\n",
       " 16.199999999999999,\n",
       " 18.0,\n",
       " 14.300000000000001,\n",
       " 19.199999999999999,\n",
       " 19.600000000000001,\n",
       " 23.0,\n",
       " 18.399999999999999,\n",
       " 15.6,\n",
       " 18.100000000000001,\n",
       " 17.399999999999999,\n",
       " 17.100000000000001,\n",
       " 13.300000000000001,\n",
       " 17.800000000000001,\n",
       " 14.0,\n",
       " 14.4,\n",
       " 13.4,\n",
       " 15.6,\n",
       " 11.800000000000001,\n",
       " 13.800000000000001,\n",
       " 15.6,\n",
       " 14.6,\n",
       " 17.800000000000001,\n",
       " 15.4,\n",
       " 21.5,\n",
       " 19.600000000000001,\n",
       " 15.300000000000001,\n",
       " 19.399999999999999,\n",
       " 17.0,\n",
       " 15.6,\n",
       " 13.1,\n",
       " 41.299999999999997,\n",
       " 24.300000000000001,\n",
       " 23.300000000000001,\n",
       " 27.0,\n",
       " 50.0,\n",
       " 50.0,\n",
       " 50.0,\n",
       " 22.699999999999999,\n",
       " 25.0,\n",
       " 50.0,\n",
       " 23.800000000000001,\n",
       " 23.800000000000001,\n",
       " 22.300000000000001,\n",
       " 17.399999999999999,\n",
       " 19.100000000000001,\n",
       " 23.100000000000001,\n",
       " 23.600000000000001,\n",
       " 22.600000000000001,\n",
       " 29.399999999999999,\n",
       " 23.199999999999999,\n",
       " 24.600000000000001,\n",
       " 29.899999999999999,\n",
       " 37.200000000000003,\n",
       " 39.799999999999997,\n",
       " 36.200000000000003,\n",
       " 37.899999999999999,\n",
       " 32.5,\n",
       " 26.399999999999999,\n",
       " 29.600000000000001,\n",
       " 50.0,\n",
       " 32.0,\n",
       " 29.800000000000001,\n",
       " 34.899999999999999,\n",
       " 37.0,\n",
       " 30.5,\n",
       " 36.399999999999999,\n",
       " 31.100000000000001,\n",
       " 29.100000000000001,\n",
       " 50.0,\n",
       " 33.299999999999997,\n",
       " 30.300000000000001,\n",
       " 34.600000000000001,\n",
       " 34.899999999999999,\n",
       " 32.899999999999999,\n",
       " 24.100000000000001,\n",
       " 42.299999999999997,\n",
       " 48.5,\n",
       " 50.0,\n",
       " 22.600000000000001,\n",
       " 24.399999999999999,\n",
       " 22.5,\n",
       " 24.399999999999999,\n",
       " 20.0,\n",
       " 21.699999999999999,\n",
       " 19.300000000000001,\n",
       " 22.399999999999999,\n",
       " 28.100000000000001,\n",
       " 23.699999999999999,\n",
       " 25.0,\n",
       " 23.300000000000001,\n",
       " 28.699999999999999,\n",
       " 21.5,\n",
       " 23.0,\n",
       " 26.699999999999999,\n",
       " 21.699999999999999,\n",
       " 27.5,\n",
       " 30.100000000000001,\n",
       " 44.799999999999997,\n",
       " 50.0,\n",
       " 37.600000000000001,\n",
       " 31.600000000000001,\n",
       " 46.700000000000003,\n",
       " 31.5,\n",
       " 24.300000000000001,\n",
       " 31.699999999999999,\n",
       " 41.700000000000003,\n",
       " 48.299999999999997,\n",
       " 29.0,\n",
       " 24.0,\n",
       " 25.100000000000001,\n",
       " 31.5,\n",
       " 23.699999999999999,\n",
       " 23.300000000000001,\n",
       " 22.0,\n",
       " 20.100000000000001,\n",
       " 22.199999999999999,\n",
       " 23.699999999999999,\n",
       " 17.600000000000001,\n",
       " 18.5,\n",
       " 24.300000000000001,\n",
       " 20.5,\n",
       " 24.5,\n",
       " 26.199999999999999,\n",
       " 24.399999999999999,\n",
       " 24.800000000000001,\n",
       " 29.600000000000001,\n",
       " 42.799999999999997,\n",
       " 21.899999999999999,\n",
       " 20.899999999999999,\n",
       " 44.0,\n",
       " 50.0,\n",
       " 36.0,\n",
       " 30.100000000000001,\n",
       " 33.799999999999997,\n",
       " 43.100000000000001,\n",
       " 48.799999999999997,\n",
       " 31.0,\n",
       " 36.5,\n",
       " 22.800000000000001,\n",
       " 30.699999999999999,\n",
       " 50.0,\n",
       " 43.5,\n",
       " 20.699999999999999,\n",
       " 21.100000000000001,\n",
       " 25.199999999999999,\n",
       " 24.399999999999999,\n",
       " 35.200000000000003,\n",
       " 32.399999999999999,\n",
       " 32.0,\n",
       " 33.200000000000003,\n",
       " 33.100000000000001,\n",
       " 29.100000000000001,\n",
       " 35.100000000000001,\n",
       " 45.399999999999999,\n",
       " 35.399999999999999,\n",
       " 46.0,\n",
       " 50.0,\n",
       " 32.200000000000003,\n",
       " 22.0,\n",
       " 20.100000000000001,\n",
       " 23.199999999999999,\n",
       " 22.300000000000001,\n",
       " 24.800000000000001,\n",
       " 28.5,\n",
       " 37.299999999999997,\n",
       " 27.899999999999999,\n",
       " 23.899999999999999,\n",
       " 21.699999999999999,\n",
       " 28.600000000000001,\n",
       " 27.100000000000001,\n",
       " 20.300000000000001,\n",
       " 22.5,\n",
       " 29.0,\n",
       " 24.800000000000001,\n",
       " 22.0,\n",
       " 26.399999999999999,\n",
       " 33.100000000000001,\n",
       " 36.100000000000001,\n",
       " 28.399999999999999,\n",
       " 33.399999999999999,\n",
       " 28.199999999999999,\n",
       " 22.800000000000001,\n",
       " 20.300000000000001,\n",
       " 16.100000000000001,\n",
       " 22.100000000000001,\n",
       " 19.399999999999999,\n",
       " 21.600000000000001,\n",
       " 23.800000000000001,\n",
       " 16.199999999999999,\n",
       " 17.800000000000001,\n",
       " 19.800000000000001,\n",
       " 23.100000000000001,\n",
       " 21.0,\n",
       " 23.800000000000001,\n",
       " 23.100000000000001,\n",
       " 20.399999999999999,\n",
       " 18.5,\n",
       " 25.0,\n",
       " 24.600000000000001,\n",
       " 23.0,\n",
       " 22.199999999999999,\n",
       " 19.300000000000001,\n",
       " 22.600000000000001,\n",
       " 19.800000000000001,\n",
       " 17.100000000000001,\n",
       " 19.399999999999999,\n",
       " 22.199999999999999,\n",
       " 20.699999999999999,\n",
       " 21.100000000000001,\n",
       " 19.5,\n",
       " 18.5,\n",
       " 20.600000000000001,\n",
       " 19.0,\n",
       " 18.699999999999999,\n",
       " 32.700000000000003,\n",
       " 16.5,\n",
       " 23.899999999999999,\n",
       " 31.199999999999999,\n",
       " 17.5,\n",
       " 17.199999999999999,\n",
       " 23.100000000000001,\n",
       " 24.5,\n",
       " 26.600000000000001,\n",
       " 22.899999999999999,\n",
       " 24.100000000000001,\n",
       " 18.600000000000001,\n",
       " 30.100000000000001,\n",
       " 18.199999999999999,\n",
       " 20.600000000000001,\n",
       " 17.800000000000001,\n",
       " 21.699999999999999,\n",
       " 22.699999999999999,\n",
       " 22.600000000000001,\n",
       " 25.0,\n",
       " 19.899999999999999,\n",
       " 20.800000000000001,\n",
       " 16.800000000000001,\n",
       " 21.899999999999999,\n",
       " 27.5,\n",
       " 21.899999999999999,\n",
       " 23.100000000000001,\n",
       " 50.0,\n",
       " 50.0,\n",
       " 50.0,\n",
       " 50.0,\n",
       " 50.0,\n",
       " 13.800000000000001,\n",
       " 13.800000000000001,\n",
       " 15.0,\n",
       " 13.9,\n",
       " 13.300000000000001,\n",
       " 13.1,\n",
       " 10.199999999999999,\n",
       " 10.4,\n",
       " 10.9,\n",
       " 11.300000000000001,\n",
       " 12.300000000000001,\n",
       " 8.8000000000000007,\n",
       " 7.2000000000000002,\n",
       " 10.5,\n",
       " 7.4000000000000004,\n",
       " 10.199999999999999,\n",
       " 11.5,\n",
       " 15.1,\n",
       " 23.199999999999999,\n",
       " 9.6999999999999993,\n",
       " 13.800000000000001,\n",
       " 12.699999999999999,\n",
       " 13.1,\n",
       " 12.5,\n",
       " 8.5,\n",
       " 5.0,\n",
       " 6.2999999999999998,\n",
       " 5.5999999999999996,\n",
       " 7.2000000000000002,\n",
       " 12.1,\n",
       " 8.3000000000000007,\n",
       " 8.5,\n",
       " 5.0,\n",
       " 11.9,\n",
       " 27.899999999999999,\n",
       " 17.199999999999999,\n",
       " 27.5,\n",
       " 15.0,\n",
       " 17.199999999999999,\n",
       " 17.899999999999999,\n",
       " 16.300000000000001,\n",
       " 7.0,\n",
       " 7.2000000000000002,\n",
       " 7.5,\n",
       " 10.4,\n",
       " 8.8000000000000007,\n",
       " 8.4000000000000004,\n",
       " 16.699999999999999,\n",
       " 14.199999999999999,\n",
       " 20.800000000000001,\n",
       " 13.4,\n",
       " 11.699999999999999,\n",
       " 8.3000000000000007,\n",
       " 10.199999999999999,\n",
       " 10.9,\n",
       " 11.0,\n",
       " 9.5,\n",
       " 14.5,\n",
       " 14.1,\n",
       " 16.100000000000001,\n",
       " 14.300000000000001,\n",
       " 11.699999999999999,\n",
       " 13.4,\n",
       " 9.5999999999999996,\n",
       " 8.6999999999999993,\n",
       " 8.4000000000000004,\n",
       " 12.800000000000001,\n",
       " 10.5,\n",
       " 17.100000000000001,\n",
       " 18.399999999999999,\n",
       " 15.4,\n",
       " 10.800000000000001,\n",
       " 11.800000000000001,\n",
       " 14.9,\n",
       " 12.6,\n",
       " 14.1,\n",
       " 13.0,\n",
       " 13.4,\n",
       " 15.199999999999999,\n",
       " 16.100000000000001,\n",
       " 17.800000000000001,\n",
       " 14.9,\n",
       " 14.1,\n",
       " 12.699999999999999,\n",
       " 13.5,\n",
       " 14.9,\n",
       " 20.0,\n",
       " 16.399999999999999,\n",
       " 17.699999999999999,\n",
       " 19.5,\n",
       " 20.199999999999999,\n",
       " 21.399999999999999,\n",
       " 19.899999999999999,\n",
       " 19.0,\n",
       " 19.100000000000001,\n",
       " 19.100000000000001,\n",
       " 20.100000000000001,\n",
       " 19.899999999999999,\n",
       " 19.600000000000001,\n",
       " 23.199999999999999,\n",
       " 29.800000000000001,\n",
       " 13.800000000000001,\n",
       " 13.300000000000001,\n",
       " 16.699999999999999,\n",
       " 12.0,\n",
       " 14.6,\n",
       " 21.399999999999999,\n",
       " 23.0,\n",
       " 23.699999999999999,\n",
       " 25.0,\n",
       " 21.800000000000001,\n",
       " 20.600000000000001,\n",
       " 21.199999999999999,\n",
       " 19.100000000000001,\n",
       " 20.600000000000001,\n",
       " 15.199999999999999,\n",
       " 7.0,\n",
       " 8.0999999999999996,\n",
       " 13.6,\n",
       " 20.100000000000001,\n",
       " 21.800000000000001,\n",
       " 24.5,\n",
       " 23.100000000000001,\n",
       " 19.699999999999999,\n",
       " 18.300000000000001,\n",
       " 21.199999999999999,\n",
       " 17.5,\n",
       " 16.800000000000001,\n",
       " 22.399999999999999,\n",
       " 20.600000000000001,\n",
       " 23.899999999999999,\n",
       " 22.0,\n",
       " 11.9]"
      ]
     },
     "execution_count": 59,
     "metadata": {},
     "output_type": "execute_result"
    }
   ],
   "source": [
    "price"
   ]
  },
  {
   "cell_type": "code",
   "execution_count": 66,
   "metadata": {},
   "outputs": [
    {
     "data": {
      "image/png": "[encoded data removed]",
      "text/plain": [
       "<matplotlib.figure.Figure at 0x1a1739f668>"
      ]
     },
     "metadata": {},
     "output_type": "display_data"
    }
   ],
   "source": [
    "plt.scatter(price,f1)\n",
    "plt.show()"
   ]
  },
  {
   "cell_type": "code",
   "execution_count": 67,
   "metadata": {},
   "outputs": [
    {
     "data": {
      "image/png": "[encoded data removed]",
      "text/plain": [
       "<matplotlib.figure.Figure at 0x1a1717bc88>"
      ]
     },
     "metadata": {},
     "output_type": "display_data"
    }
   ],
   "source": [
    "plt.scatter(price,f2)\n",
    "plt.show()"
   ]
  },
  {
   "cell_type": "code",
   "execution_count": 68,
   "metadata": {},
   "outputs": [
    {
     "data": {
      "image/png": "[encoded data removed]",
      "text/plain": [
       "<matplotlib.figure.Figure at 0x1a17407908>"
      ]
     },
     "metadata": {},
     "output_type": "display_data"
    }
   ],
   "source": [
    "plt.scatter(price,f3)\n",
    "plt.show()"
   ]
  },
  {
   "cell_type": "code",
   "execution_count": 69,
   "metadata": {},
   "outputs": [
    {
     "data": {
      "image/png": "[encoded data removed]",
      "text/plain": [
       "<matplotlib.figure.Figure at 0x1a174e9d30>"
      ]
     },
     "metadata": {},
     "output_type": "display_data"
    }
   ],
   "source": [
    "plt.scatter(price,f4)\n",
    "plt.show()"
   ]
  },
  {
   "cell_type": "code",
   "execution_count": 70,
   "metadata": {
    "scrolled": true
   },
   "outputs": [
    {
     "data": {
      "image/png": "[encoded data removed]",
      "text/plain": [
       "<matplotlib.figure.Figure at 0x1a17632438>"
      ]
     },
     "metadata": {},
     "output_type": "display_data"
    }
   ],
   "source": [
    "plt.scatter(price,f5)\n",
    "plt.show()"
   ]
  },
  {
   "cell_type": "code",
   "execution_count": 79,
   "metadata": {
    "collapsed": true
   },
   "outputs": [],
   "source": [
    "f6=[]\n",
    "f7=[]\n",
    "f8=[]\n",
    "f9=[]\n",
    "f10=[]\n",
    "f11=[]\n",
    "f12=[]\n",
    "f13=[]\n",
    "\n",
    "for i in range(len(x)):\n",
    "    f6.append(x[i][5])\n",
    "    f7.append(x[i][6])\n",
    "    f8.append(x[i][7])\n",
    "    f9.append(x[i][8])\n",
    "    f10.append(x[i][9])\n",
    "    f11.append(x[i][10])\n",
    "    f12.append(x[i][11])\n",
    "    f13.append(x[i][12])\n"
   ]
  },
  {
   "cell_type": "code",
   "execution_count": 80,
   "metadata": {
    "scrolled": false
   },
   "outputs": [
    {
     "data": {
      "image/png": "[encoded data removed]",
      "text/plain": [
       "<matplotlib.figure.Figure at 0x1a17c230b8>"
      ]
     },
     "metadata": {},
     "output_type": "display_data"
    }
   ],
   "source": [
    "plt.scatter(price,f6)\n",
    "plt.show()"
   ]
  },
  {
   "cell_type": "code",
   "execution_count": 73,
   "metadata": {
    "scrolled": true
   },
   "outputs": [
    {
     "data": {
      "image/png": "[encoded data removed]",
      "text/plain": [
       "<matplotlib.figure.Figure at 0x1a176d9d68>"
      ]
     },
     "metadata": {},
     "output_type": "display_data"
    }
   ],
   "source": [
    "#Age\n",
    "plt.scatter(price,f7)\n",
    "plt.show()"
   ]
  },
  {
   "cell_type": "code",
   "execution_count": null,
   "metadata": {
    "collapsed": true
   },
   "outputs": [],
   "source": []
  },
  {
   "cell_type": "code",
   "execution_count": 81,
   "metadata": {
    "scrolled": true
   },
   "outputs": [
    {
     "data": {
      "image/png": "[encoded data removed]",
      "text/plain": [
       "<matplotlib.figure.Figure at 0x1a17714cf8>"
      ]
     },
     "metadata": {},
     "output_type": "display_data"
    }
   ],
   "source": [
    "#  DIS      weighted distances to five Boston employment centres\\n\n",
    "plt.scatter(price,f8)\n",
    "plt.show()"
   ]
  },
  {
   "cell_type": "code",
   "execution_count": 82,
   "metadata": {
    "scrolled": true
   },
   "outputs": [
    {
     "data": {
      "image/png": "[encoded data removed]",
      "text/plain": [
       "<matplotlib.figure.Figure at 0x1a17ce1470>"
      ]
     },
     "metadata": {},
     "output_type": "display_data"
    }
   ],
   "source": [
    "# RAD      index of accessibility to radial highways\\n    \n",
    "plt.scatter(price,f9)\n",
    "plt.show()"
   ]
  },
  {
   "cell_type": "code",
   "execution_count": 76,
   "metadata": {},
   "outputs": [
    {
     "data": {
      "image/png": "[encoded data removed]",
      "text/plain": [
       "<matplotlib.figure.Figure at 0x1a179bb400>"
      ]
     },
     "metadata": {},
     "output_type": "display_data"
    }
   ],
   "source": [
    "# TAX      full-value property-tax rate per $10,000\n",
    "plt.scatter(price,f10)\n",
    "plt.show()"
   ]
  },
  {
   "cell_type": "code",
   "execution_count": 83,
   "metadata": {},
   "outputs": [
    {
     "data": {
      "image/png": "[encoded data removed]",
      "text/plain": [
       "<matplotlib.figure.Figure at 0x1a17d74358>"
      ]
     },
     "metadata": {},
     "output_type": "display_data"
    }
   ],
   "source": [
    "# - PTRATIO  pupil-teacher ratio by town\\n\n",
    "plt.scatter(price,f11)\n",
    "plt.show()"
   ]
  },
  {
   "cell_type": "code",
   "execution_count": 85,
   "metadata": {
    "scrolled": true
   },
   "outputs": [
    {
     "data": {
      "image/png": "[encoded data removed]",
      "text/plain": [
       "<matplotlib.figure.Figure at 0x1a17a94160>"
      ]
     },
     "metadata": {},
     "output_type": "display_data"
    }
   ],
   "source": [
    "plt.scatter(price,f12)\n",
    "plt.show()"
   ]
  },
  {
   "cell_type": "code",
   "execution_count": 84,
   "metadata": {},
   "outputs": [
    {
     "data": {
      "image/png": "[encoded data removed]",
      "text/plain": [
       "<matplotlib.figure.Figure at 0x1a17cadbe0>"
      ]
     },
     "metadata": {},
     "output_type": "display_data"
    }
   ],
   "source": [
    "# MEDV     Median value of owner-occupied homes in $1000's\n",
    "plt.scatter(price,f13)\n",
    "plt.show()"
   ]
  }
 ],
 "metadata": {
  "kernelspec": {
   "display_name": "Python 3",
   "language": "python",
   "name": "python3"
  },
  "language_info": {
   "codemirror_mode": {
    "name": "ipython",
    "version": 3
   },
   "file_extension": ".py",
   "mimetype": "text/x-python",
   "name": "python",
   "nbconvert_exporter": "python",
   "pygments_lexer": "ipython3",
   "version": "3.6.3"
  }
 },
 "nbformat": 4,
 "nbformat_minor": 2
}
