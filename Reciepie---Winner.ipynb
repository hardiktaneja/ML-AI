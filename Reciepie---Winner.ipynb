{
 "cells": [
  {
   "cell_type": "code",
   "execution_count": 1,
   "metadata": {
    "collapsed": true
   },
   "outputs": [],
   "source": [
    "import json\n",
    "import numpy as np\n",
    "import pandas as pd\n",
    "from sklearn.preprocessing import LabelEncoder\n",
    "from sklearn.feature_extraction.text import TfidfVectorizer\n",
    "from sklearn.svm import SVC\n",
    "from sklearn.multiclass import OneVsRestClassifier"
   ]
  },
  {
   "cell_type": "code",
   "execution_count": null,
   "metadata": {
    "collapsed": true
   },
   "outputs": [],
   "source": [
    "train = json.load(open(\"/Users/hardiktaneja/Downloads/all (4)/train.json\"))\n",
    "Converting ingredients to text data\n",
    "train_as_text = [' '.join(sample['ingredients']).lower() for sample in train]\n",
    "train_cuisine = [sample['cuisine'] for sample in train]\n",
    "\n",
    "tfidf_enc = TfidfVectorizer(binary=True)\n",
    "lbl_enc = LabelEncoder()"
   ]
  },
  {
   "cell_type": "code",
   "execution_count": null,
   "metadata": {
    "collapsed": true
   },
   "outputs": [],
   "source": [
    "X = tfidf_enc.fit_transform(train_as_text)\n",
    "X = X.astype('float16')\n",
    "y = lbl_enc.fit_transform(train_cuisine)\n",
    "x_train,x_test,y_train,y_test = sklearn.model_selection.train_test_split(X,y,test_size=.2)"
   ]
  },
  {
   "cell_type": "code",
   "execution_count": null,
   "metadata": {
    "collapsed": true
   },
   "outputs": [],
   "source": [
    "clf = SVC(C=100, kernel='rbf', degree=3,\n",
    "          gamma=1, coef0=1, shrinking=True, \n",
    "          probability=False, tol=0.001, cache_size=200,\n",
    "          class_weight=None, verbose=True, max_iter=-1,\n",
    "          decision_function_shape=None, random_state=None)\n",
    "model = OneVsRestClassifier(clf, n_jobs=4)\n",
    "model.fit(x_train,y_train)\n",
    "\n",
    "model.score(x_test,y_test)"
   ]
  }
 ],
 "metadata": {
  "kernelspec": {
   "display_name": "Python 3",
   "language": "python",
   "name": "python3"
  },
  "language_info": {
   "codemirror_mode": {
    "name": "ipython",
    "version": 3
   },
   "file_extension": ".py",
   "mimetype": "text/x-python",
   "name": "python",
   "nbconvert_exporter": "python",
   "pygments_lexer": "ipython3",
   "version": "3.6.3"
  }
 },
 "nbformat": 4,
 "nbformat_minor": 2
}
