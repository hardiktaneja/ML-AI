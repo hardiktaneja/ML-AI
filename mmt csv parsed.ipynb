{
 "cells": [
  {
   "cell_type": "code",
   "execution_count": 1,
   "metadata": {
    "collapsed": true
   },
   "outputs": [],
   "source": [
    "import csv"
   ]
  },
  {
   "cell_type": "code",
   "execution_count": 2,
   "metadata": {
    "collapsed": true
   },
   "outputs": [],
   "source": [
    "biglist=[]"
   ]
  },
  {
   "cell_type": "code",
   "execution_count": 3,
   "metadata": {
    "collapsed": true
   },
   "outputs": [],
   "source": [
    "with open(\"/Users/hardiktaneja/Downloads/makemytrip_com-travel_sample.csv\",\"r\") as csvfile:\n",
    "    csvread = csv.reader(csvfile, delimiter=',', quotechar='\"')\n",
    "    for a in csvread:\n",
    "        biglist.append(a)"
   ]
  },
  {
   "cell_type": "code",
   "execution_count": 10,
   "metadata": {},
   "outputs": [
    {
     "data": {
      "text/plain": [
       "'6'"
      ]
     },
     "execution_count": 10,
     "metadata": {},
     "output_type": "execute_result"
    }
   ],
   "source": [
    "biglist[1][18]"
   ]
  },
  {
   "cell_type": "code",
   "execution_count": 4,
   "metadata": {
    "collapsed": true
   },
   "outputs": [],
   "source": [
    "list1=[]\n",
    "list2=[]\n",
    "list3=[]\n",
    "for i in range(1,len(biglist)):\n",
    "    if(biglist[i][16] == \"\"):\n",
    "        a=0\n",
    "    else:\n",
    "        a=float(biglist[i][16])\n",
    "        \n",
    "    if(biglist[i][18] == \"\"):\n",
    "        b=0\n",
    "    else:\n",
    "        b=float(biglist[i][18])\n",
    "    \n",
    "    tscore=a*b\n",
    "    \n",
    "    list1.append(tscore)\n",
    "    list2.append(biglist[i][22])\n",
    "    list3.append(biglist[i][1])\n",
    "    "
   ]
  },
  {
   "cell_type": "code",
   "execution_count": 5,
   "metadata": {
    "collapsed": true
   },
   "outputs": [],
   "source": [
    "bigtupnoncity = list(zip(list1,list2))"
   ]
  },
  {
   "cell_type": "code",
   "execution_count": 13,
   "metadata": {},
   "outputs": [
    {
     "data": {
      "text/plain": [
       "(27.0, 'Zion Home Stay')"
      ]
     },
     "execution_count": 13,
     "metadata": {},
     "output_type": "execute_result"
    }
   ],
   "source": [
    "bigtupnoncity[0]"
   ]
  },
  {
   "cell_type": "code",
   "execution_count": 29,
   "metadata": {},
   "outputs": [
    {
     "name": "stdout",
     "output_type": "stream",
     "text": [
      "[(21508.8, 'The Taj Mahal Palace'), (10705.5, 'Radisson Blu Agra Taj East Gate'), (10084.8, 'The Oberoi Amarvilas'), (9867.0, 'Trident Udaipur'), (9839.4, 'Trident Udaipur'), (8991.0, 'ITC Rajputana - A Luxury Collection Hotel')]\n"
     ]
    }
   ],
   "source": [
    "nonrep1=[]\n",
    "for i in range(len(bigtupnoncity)):\n",
    "    if(bigtupnoncity[i] not in nonrep1):\n",
    "        nonrep1.append(bigtupnoncity[i])\n",
    "print(sorted(nonrep1,reverse = True)[:6])"
   ]
  },
  {
   "cell_type": "code",
   "execution_count": 11,
   "metadata": {
    "collapsed": true
   },
   "outputs": [],
   "source": [
    "bigtup = list(zip(list1,list2,list3))"
   ]
  },
  {
   "cell_type": "code",
   "execution_count": 25,
   "metadata": {},
   "outputs": [
    {
     "name": "stdout",
     "output_type": "stream",
     "text": [
      "20047\n"
     ]
    }
   ],
   "source": [
    "print(len(bigtup))"
   ]
  },
  {
   "cell_type": "code",
   "execution_count": 13,
   "metadata": {
    "scrolled": false
   },
   "outputs": [
    {
     "name": "stdout",
     "output_type": "stream",
     "text": [
      "[(21508.8, 'The Taj Mahal Palace', 'Mumbai'), (21508.8, 'The Taj Mahal Palace', 'Mumbai'), (10705.5, 'Radisson Blu Agra Taj East Gate', 'WeekendGetawaysAroundDelhi'), (10705.5, 'Radisson Blu Agra Taj East Gate', 'Agra'), (10084.8, 'The Oberoi Amarvilas', 'Agra')]\n"
     ]
    }
   ],
   "source": [
    "print(sorted(bigtup,reverse = True)[:5])"
   ]
  },
  {
   "cell_type": "code",
   "execution_count": 22,
   "metadata": {
    "collapsed": true
   },
   "outputs": [],
   "source": [
    "nonrep=[]\n",
    "for i in range(len(bigtup)):\n",
    "    if(bigtup[i] not in nonrep):\n",
    "        nonrep.append(bigtup[i])"
   ]
  },
  {
   "cell_type": "code",
   "execution_count": null,
   "metadata": {
    "collapsed": true
   },
   "outputs": [],
   "source": []
  },
  {
   "cell_type": "code",
   "execution_count": 23,
   "metadata": {},
   "outputs": [
    {
     "name": "stdout",
     "output_type": "stream",
     "text": [
      "[(21508.8, 'The Taj Mahal Palace', 'Mumbai'), (10705.5, 'Radisson Blu Agra Taj East Gate', 'WeekendGetawaysAroundDelhi'), (10705.5, 'Radisson Blu Agra Taj East Gate', 'Agra'), (10084.8, 'The Oberoi Amarvilas', 'Agra'), (9867.0, 'Trident Udaipur', 'Udaipur')]\n"
     ]
    }
   ],
   "source": [
    "print(sorted(nonrep,reverse = True)[:5])"
   ]
  },
  {
   "cell_type": "code",
   "execution_count": 18,
   "metadata": {
    "collapsed": true
   },
   "outputs": [],
   "source": [
    "city = \"Udaipur\"\n",
    "citylist=[]\n",
    "for i in range(len(bigtup)):\n",
    "    if(bigtup[i][2] == city):\n",
    "        citylist.append(bigtup[i])\n"
   ]
  },
  {
   "cell_type": "code",
   "execution_count": 20,
   "metadata": {
    "collapsed": true
   },
   "outputs": [],
   "source": [
    "citynonrep=[]\n",
    "for i in range(len(citylist)):\n",
    "    if(citylist[i] not in citynonrep):\n",
    "        citynonrep.append(citylist[i])"
   ]
  },
  {
   "cell_type": "code",
   "execution_count": 21,
   "metadata": {
    "scrolled": false
   },
   "outputs": [
    {
     "name": "stdout",
     "output_type": "stream",
     "text": [
      "[(9867.0, 'Trident Udaipur', 'Udaipur'), (9839.4, 'Trident Udaipur', 'Udaipur'), (7215.999999999999, 'Hotel Jaiwana Haveli', 'Udaipur'), (3003.3, 'Bhanwar Vilas Guest House', 'Udaipur'), (2566.2000000000003, 'Hotel Mahendra Prakash', 'Udaipur')]\n"
     ]
    }
   ],
   "source": [
    "print(sorted(citynonrep,reverse = True)[:5])"
   ]
  },
  {
   "cell_type": "code",
   "execution_count": null,
   "metadata": {
    "collapsed": true
   },
   "outputs": [],
   "source": []
  }
 ],
 "metadata": {
  "kernelspec": {
   "display_name": "Python 3",
   "language": "python",
   "name": "python3"
  },
  "language_info": {
   "codemirror_mode": {
    "name": "ipython",
    "version": 3
   },
   "file_extension": ".py",
   "mimetype": "text/x-python",
   "name": "python",
   "nbconvert_exporter": "python",
   "pygments_lexer": "ipython3",
   "version": "3.6.3"
  }
 },
 "nbformat": 4,
 "nbformat_minor": 2
}
