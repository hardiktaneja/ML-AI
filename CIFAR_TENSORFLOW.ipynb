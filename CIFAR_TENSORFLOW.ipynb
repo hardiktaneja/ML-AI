{
 "cells": [
  {
   "cell_type": "code",
   "execution_count": 1,
   "metadata": {
    "collapsed": true
   },
   "outputs": [],
   "source": [
    "import sklearn\n",
    "import sklearn.datasets\n",
    "import sklearn.tree\n",
    "import matplotlib.pyplot as plt\n",
    "import sklearn.linear_model\n",
    "import pandas as pd\n",
    "import numpy as np\n",
    "import sklearn.ensemble\n",
    "import pylab as pl\n",
    "import pickle \n",
    "import scipy.misc as smp\n",
    "import os"
   ]
  },
  {
   "cell_type": "code",
   "execution_count": 2,
   "metadata": {
    "collapsed": true
   },
   "outputs": [],
   "source": [
    "import tensorflow as tf "
   ]
  },
  {
   "cell_type": "code",
   "execution_count": 3,
   "metadata": {
    "collapsed": true
   },
   "outputs": [],
   "source": [
    "from PIL import Image\n",
    "# img = Image.open('/Users/hardiktaneja/Downloads/DevanagariHandwrittenCharacterDataset/Train/character_1_ka/10962.png')"
   ]
  },
  {
   "cell_type": "code",
   "execution_count": 4,
   "metadata": {
    "collapsed": true
   },
   "outputs": [],
   "source": [
    "with open(\"/Users/hardiktaneja/Desktop/cifar-100-python/train\",'rb') as fo:\n",
    "    dict1 = pickle.load(fo, encoding='latin1')"
   ]
  },
  {
   "cell_type": "code",
   "execution_count": 5,
   "metadata": {
    "collapsed": true
   },
   "outputs": [],
   "source": [
    "x = np.array(dict1['data'])\n",
    "y = np.array(dict1['coarse_labels'])\n",
    "y = pd.Series(y)"
   ]
  },
  {
   "cell_type": "code",
   "execution_count": 9,
   "metadata": {},
   "outputs": [
    {
     "data": {
      "text/plain": [
       "[0, 1, 2, 3, 4, 5, 6, 7, 8, 9, 10, 11, 12, 13, 14, 15, 16, 17, 18, 19]"
      ]
     },
     "execution_count": 9,
     "metadata": {},
     "output_type": "execute_result"
    }
   ],
   "source": [
    "(sorted(y.unique()))"
   ]
  },
  {
   "cell_type": "code",
   "execution_count": 10,
   "metadata": {
    "collapsed": true
   },
   "outputs": [],
   "source": [
    "lt = [str(i) for i in range(0,3072)]\n",
    "x1 = pd.DataFrame(x,columns=lt)"
   ]
  },
  {
   "cell_type": "code",
   "execution_count": 11,
   "metadata": {
    "collapsed": true
   },
   "outputs": [],
   "source": [
    "feature_columns=[]\n",
    "for key in x1.keys():\n",
    "    feature_columns.append(tf.contrib.layers.feature_column.real_valued_column(key))"
   ]
  },
  {
   "cell_type": "code",
   "execution_count": 12,
   "metadata": {},
   "outputs": [
    {
     "name": "stdout",
     "output_type": "stream",
     "text": [
      "INFO:tensorflow:Using default config.\n",
      "WARNING:tensorflow:Using temporary folder as model directory: /var/folders/3s/mpwd_qqj4b56fktn8qnv7dvm0000gn/T/tmp1643nxqs\n",
      "INFO:tensorflow:Using config: {'_model_dir': '/var/folders/3s/mpwd_qqj4b56fktn8qnv7dvm0000gn/T/tmp1643nxqs', '_tf_random_seed': None, '_save_summary_steps': 100, '_save_checkpoints_steps': None, '_save_checkpoints_secs': 600, '_session_config': None, '_keep_checkpoint_max': 5, '_keep_checkpoint_every_n_hours': 10000, '_log_step_count_steps': 100, '_train_distribute': None, '_device_fn': None, '_service': None, '_cluster_spec': <tensorflow.python.training.server_lib.ClusterSpec object at 0x1a21d879b0>, '_task_type': 'worker', '_task_id': 0, '_global_id_in_cluster': 0, '_master': '', '_evaluation_master': '', '_is_chief': True, '_num_ps_replicas': 0, '_num_worker_replicas': 1}\n"
     ]
    }
   ],
   "source": [
    "Classifier = tf.estimator.DNNClassifier(feature_columns =feature_columns ,hidden_units=[10,10],n_classes=20)"
   ]
  },
  {
   "cell_type": "code",
   "execution_count": 13,
   "metadata": {
    "collapsed": true
   },
   "outputs": [],
   "source": [
    "x_train,x_test,y_train,y_test = sklearn.model_selection.train_test_split(x1,y,test_size=.2)"
   ]
  },
  {
   "cell_type": "code",
   "execution_count": 14,
   "metadata": {
    "collapsed": true
   },
   "outputs": [],
   "source": [
    "def f1():\n",
    "    return dict(x_train),y_train\n",
    "\n",
    "def f2():\n",
    "    return dict(x_test),y_test"
   ]
  },
  {
   "cell_type": "code",
   "execution_count": 15,
   "metadata": {},
   "outputs": [
    {
     "name": "stdout",
     "output_type": "stream",
     "text": [
      "INFO:tensorflow:Calling model_fn.\n",
      "INFO:tensorflow:Done calling model_fn.\n",
      "INFO:tensorflow:Create CheckpointSaverHook.\n",
      "INFO:tensorflow:Graph was finalized.\n",
      "INFO:tensorflow:Running local_init_op.\n",
      "INFO:tensorflow:Done running local_init_op.\n",
      "INFO:tensorflow:Saving checkpoints for 0 into /var/folders/3s/mpwd_qqj4b56fktn8qnv7dvm0000gn/T/tmp1643nxqs/model.ckpt.\n",
      "INFO:tensorflow:loss = 1.19049e+07, step = 1\n",
      "INFO:tensorflow:Saving checkpoints for 101 into /var/folders/3s/mpwd_qqj4b56fktn8qnv7dvm0000gn/T/tmp1643nxqs/model.ckpt.\n",
      "INFO:tensorflow:global_step/sec: 0.206462\n",
      "INFO:tensorflow:loss = 119839.0, step = 101 (484.335 sec)\n",
      "INFO:tensorflow:Saving checkpoints for 200 into /var/folders/3s/mpwd_qqj4b56fktn8qnv7dvm0000gn/T/tmp1643nxqs/model.ckpt.\n",
      "INFO:tensorflow:Loss for final step: 119828.0.\n"
     ]
    },
    {
     "data": {
      "text/plain": [
       "<tensorflow.python.estimator.canned.dnn.DNNClassifier at 0x10cfccb70>"
      ]
     },
     "execution_count": 15,
     "metadata": {},
     "output_type": "execute_result"
    }
   ],
   "source": [
    "Classifier.train(input_fn = f1,steps= 200)"
   ]
  },
  {
   "cell_type": "code",
   "execution_count": 17,
   "metadata": {},
   "outputs": [
    {
     "name": "stdout",
     "output_type": "stream",
     "text": [
      "INFO:tensorflow:Calling model_fn.\n",
      "INFO:tensorflow:Done calling model_fn.\n",
      "INFO:tensorflow:Starting evaluation at 2018-07-16-05:20:03\n",
      "INFO:tensorflow:Graph was finalized.\n",
      "INFO:tensorflow:Restoring parameters from /var/folders/3s/mpwd_qqj4b56fktn8qnv7dvm0000gn/T/tmp1643nxqs/model.ckpt-200\n",
      "INFO:tensorflow:Running local_init_op.\n",
      "INFO:tensorflow:Done running local_init_op.\n",
      "INFO:tensorflow:Evaluation [1/1]\n",
      "INFO:tensorflow:Finished evaluation at 2018-07-16-05:20:35\n",
      "INFO:tensorflow:Saving dict for global step 200: accuracy = 0.0467, average_loss = 2.99629, global_step = 200, loss = 29962.9\n",
      "INFO:tensorflow:Saving 'checkpoint_path' summary for global step 200: /var/folders/3s/mpwd_qqj4b56fktn8qnv7dvm0000gn/T/tmp1643nxqs/model.ckpt-200\n",
      "{'accuracy': 0.046700001, 'average_loss': 2.9962888, 'loss': 29962.889, 'global_step': 200}\n"
     ]
    }
   ],
   "source": [
    "eval_result = Classifier.evaluate(input_fn =f2,steps=1)\n",
    "print(eval_result)"
   ]
  }
 ],
 "metadata": {
  "kernelspec": {
   "display_name": "Python 3",
   "language": "python",
   "name": "python3"
  },
  "language_info": {
   "codemirror_mode": {
    "name": "ipython",
    "version": 3
   },
   "file_extension": ".py",
   "mimetype": "text/x-python",
   "name": "python",
   "nbconvert_exporter": "python",
   "pygments_lexer": "ipython3",
   "version": "3.6.3"
  }
 },
 "nbformat": 4,
 "nbformat_minor": 2
}
